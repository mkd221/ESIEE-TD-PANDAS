{
  "cells": [
    {
      "cell_type": "markdown",
      "id": "google",
      "metadata": {
        "id": "google"
      },
      "source": [
        "##### Copyright 2022 Google LLC."
      ]
    },
    {
      "cell_type": "markdown",
      "id": "apache",
      "metadata": {
        "id": "apache"
      },
      "source": [
        "Licensed under the Apache License, Version 2.0 (the \"License\");\n",
        "you may not use this file except in compliance with the License.\n",
        "You may obtain a copy of the License at\n",
        "\n",
        "    http://www.apache.org/licenses/LICENSE-2.0\n",
        "\n",
        "Unless required by applicable law or agreed to in writing, software\n",
        "distributed under the License is distributed on an \"AS IS\" BASIS,\n",
        "WITHOUT WARRANTIES OR CONDITIONS OF ANY KIND, either express or implied.\n",
        "See the License for the specific language governing permissions and\n",
        "limitations under the License.\n"
      ]
    },
    {
      "cell_type": "markdown",
      "id": "basename",
      "metadata": {
        "id": "basename"
      },
      "source": [
        "# linear_programming_example"
      ]
    },
    {
      "cell_type": "markdown",
      "id": "link",
      "metadata": {
        "id": "link"
      },
      "source": [
        "<table align=\"left\">\n",
        "<td>\n",
        "<a href=\"https://colab.research.google.com/github/google/or-tools/blob/main/examples/notebook/linear_solver/linear_programming_example.ipynb\"><img src=\"https://raw.githubusercontent.com/google/or-tools/main/tools/colab_32px.png\"/>Run in Google Colab</a>\n",
        "</td>\n",
        "<td>\n",
        "<a href=\"https://github.com/google/or-tools/blob/main/ortools/linear_solver/samples/linear_programming_example.py\"><img src=\"https://raw.githubusercontent.com/google/or-tools/main/tools/github_32px.png\"/>View source on GitHub</a>\n",
        "</td>\n",
        "</table>"
      ]
    },
    {
      "cell_type": "markdown",
      "id": "doc",
      "metadata": {
        "id": "doc"
      },
      "source": [
        "First, you must install [ortools](https://pypi.org/project/ortools/) package in this colab."
      ]
    },
    {
      "cell_type": "code",
      "execution_count": 1,
      "id": "install",
      "metadata": {
        "colab": {
          "base_uri": "https://localhost:8080/"
        },
        "id": "install",
        "outputId": "dade4de8-3131-4198-968a-eaa1f14ff3ce"
      },
      "outputs": [
        {
          "output_type": "stream",
          "name": "stdout",
          "text": [
            "Looking in indexes: https://pypi.org/simple, https://us-python.pkg.dev/colab-wheels/public/simple/\n",
            "Collecting ortools\n",
            "  Downloading ortools-9.5.2237-cp38-cp38-manylinux_2_17_x86_64.manylinux2014_x86_64.whl (16.3 MB)\n",
            "\u001b[2K     \u001b[90m━━━━━━━━━━━━━━━━━━━━━━━━━━━━━━━━━━━━━━━━\u001b[0m \u001b[32m16.3/16.3 MB\u001b[0m \u001b[31m41.6 MB/s\u001b[0m eta \u001b[36m0:00:00\u001b[0m\n",
            "\u001b[?25hCollecting protobuf>=4.21.5\n",
            "  Downloading protobuf-4.21.12-cp37-abi3-manylinux2014_x86_64.whl (409 kB)\n",
            "\u001b[2K     \u001b[90m━━━━━━━━━━━━━━━━━━━━━━━━━━━━━━━━━━━━━━\u001b[0m \u001b[32m409.8/409.8 KB\u001b[0m \u001b[31m10.9 MB/s\u001b[0m eta \u001b[36m0:00:00\u001b[0m\n",
            "\u001b[?25hRequirement already satisfied: absl-py>=0.13 in /usr/local/lib/python3.8/dist-packages (from ortools) (1.4.0)\n",
            "Requirement already satisfied: numpy>=1.13.3 in /usr/local/lib/python3.8/dist-packages (from ortools) (1.21.6)\n",
            "Installing collected packages: protobuf, ortools\n",
            "  Attempting uninstall: protobuf\n",
            "    Found existing installation: protobuf 3.19.6\n",
            "    Uninstalling protobuf-3.19.6:\n",
            "      Successfully uninstalled protobuf-3.19.6\n",
            "\u001b[31mERROR: pip's dependency resolver does not currently take into account all the packages that are installed. This behaviour is the source of the following dependency conflicts.\n",
            "tensorflow 2.9.2 requires protobuf<3.20,>=3.9.2, but you have protobuf 4.21.12 which is incompatible.\n",
            "tensorflow-metadata 1.12.0 requires protobuf<4,>=3.13, but you have protobuf 4.21.12 which is incompatible.\n",
            "tensorboard 2.9.1 requires protobuf<3.20,>=3.9.2, but you have protobuf 4.21.12 which is incompatible.\u001b[0m\u001b[31m\n",
            "\u001b[0mSuccessfully installed ortools-9.5.2237 protobuf-4.21.12\n"
          ]
        }
      ],
      "source": [
        "!pip install ortools"
      ]
    },
    {
      "cell_type": "markdown",
      "id": "description",
      "metadata": {
        "id": "description"
      },
      "source": [
        "Linear optimization example."
      ]
    },
    {
      "cell_type": "code",
      "execution_count": 3,
      "id": "code",
      "metadata": {
        "colab": {
          "base_uri": "https://localhost:8080/"
        },
        "id": "code",
        "outputId": "4a07e67c-57e0-49e6-c07d-a9010a668371"
      },
      "outputs": [
        {
          "output_type": "stream",
          "name": "stdout",
          "text": [
            "Number of variables = 16\n",
            "Number of constraints = 4\n"
          ]
        }
      ],
      "source": [
        "from ortools.linear_solver import pywraplp\n",
        "\n",
        "\n",
        "def LinearProgrammingExample():\n",
        "    \"\"\"Linear programming sample.\"\"\"\n",
        "    # Instantiate a Glop solver, naming it LinearExample.\n",
        "    solver = pywraplp.Solver.CreateSolver('GLOP')\n",
        "    if not solver:\n",
        "        return\n",
        "\n",
        "    # Create the 16 variables and let them take on any non-negative value.\n",
        "    x_MPE = solver.NumVar(0, solver.infinity(), 'x_MPE')\n",
        "    x_MNE = solver.NumVar(0, solver.infinity(), 'x_MNE')\n",
        "    x_MSE = solver.NumVar(0, solver.infinity(), 'x_MSE')\n",
        "    x_MPA = solver.NumVar(0, solver.infinity(), 'x_MPA')\n",
        "    x_MNA = solver.NumVar(0, solver.infinity(), 'x_MNA')\n",
        "    x_MSA = solver.NumVar(0, solver.infinity(), 'x_MSA')\n",
        "    x_TPE = solver.NumVar(0, solver.infinity(), 'x_TPE')\n",
        "    x_TNE = solver.NumVar(0, solver.infinity(), 'x_TNE')\n",
        "    x_TSE = solver.NumVar(0, solver.infinity(), 'x_TSE')\n",
        "    x_TPA = solver.NumVar(0, solver.infinity(), 'x_TPA')\n",
        "    x_TNA = solver.NumVar(0, solver.infinity(), 'x_TNA')\n",
        "    x_TSA = solver.NumVar(0, solver.infinity(), 'x_TSA')\n",
        "    x_PNE = solver.NumVar(0, solver.infinity(), 'x_PNE')\n",
        "    x_PNA = solver.NumVar(0, solver.infinity(), 'x_PNA')\n",
        "    x_PSE = solver.NumVar(0, solver.infinity(), 'x_PSE')\n",
        "    x_PSA = solver.NumVar(0, solver.infinity(), 'x_PSA')\n",
        "\n",
        "\n",
        "    print('Number of variables =', solver.NumVariables())\n",
        "\n",
        "    # Constraint Marseille - Paris \n",
        "    solver.Add(33*x_MPE + 44*x_MNE + 45*x_MSE + 16*x_MPA + 6*x_MNA + 11*x_MSA <= 132)\n",
        "\n",
        "    # Constraint Toulouse - Paris\n",
        "    solver.Add(26*x_TPE + 56*x_TNE + 39*x_TSE + 15*x_TPA + 7*x_TNA + 9*x_TSA <= 132)\n",
        "\n",
        "    # Constraint PARIS - Nantes\n",
        "    solver.Add(64*x_PNE + 8*x_PNA <= 132)\n",
        "\n",
        "    # Constraint PARIS - Nantes\n",
        "    solver.Add(46*x_PSE + 10*x_PSA <= 132)\n",
        "\n",
        "    print('Number of constraints =', solver.NumConstraints())\n",
        "\n",
        "    # Objective function: 3x + 4y.\n",
        "    #solver.Maximize(3 * x + 4 * y)\n",
        "\n",
        "    # Solve the system.\n",
        "    #status = solver.Solve()\n",
        "\n",
        "    #if status == pywraplp.Solver.OPTIMAL:\n",
        "     #   print('Solution:')\n",
        "      #  print('Objective value =', solver.Objective().Value())\n",
        "       # print('x =', x.solution_value())\n",
        "        #print('y =', y.solution_value())\n",
        "    #else:\n",
        "        #print('The problem does not have an optimal solution.')\n",
        "\n",
        "    #print('\\nAdvanced usage:')\n",
        "    #print('Problem solved in %f milliseconds' % solver.wall_time())\n",
        "    #print('Problem solved in %d iterations' % solver.iterations())\n",
        "\n",
        "\n",
        "LinearProgrammingExample()\n",
        "\n"
      ]
    }
  ],
  "metadata": {
    "colab": {
      "provenance": []
    },
    "language_info": {
      "name": "python"
    },
    "kernelspec": {
      "name": "python3",
      "display_name": "Python 3"
    },
    "gpuClass": "standard"
  },
  "nbformat": 4,
  "nbformat_minor": 5
}